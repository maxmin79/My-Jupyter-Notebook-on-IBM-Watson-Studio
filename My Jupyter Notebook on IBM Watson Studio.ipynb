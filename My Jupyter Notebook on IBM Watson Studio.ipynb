{
 "cells": [
  {
   "cell_type": "markdown",
   "id": "07330c66-116c-4349-b756-fd60e2fa41bc",
   "metadata": {},
   "source": [
    "<h1>Header 1, My Jupyter Notebook on IBM Watson Studio<h1>"
   ]
  },
  {
   "cell_type": "markdown",
   "id": "11a03e4a-9f83-4f24-97a1-b11d1ca73b58",
   "metadata": {},
   "source": [
    "**Almog Klein**\n",
    "\n",
    "I'd like to go into the space industry and work as a data scientist to help tell everyone's story."
   ]
  },
  {
   "cell_type": "markdown",
   "id": "9e5a713a-7d6d-4eee-bb6c-fcfed2a55b35",
   "metadata": {},
   "source": []
  },
  {
   "cell_type": "markdown",
   "id": "34e209fe-fd88-4080-9b33-30e3e8ed556e",
   "metadata": {},
   "source": [
    "*I am interested in data science because I have many interests and the world of data science*\n",
    "\n",
    "*integrates and improves in every field such as stocks, computer vision, medical systems and many others.*"
   ]
  },
  {
   "cell_type": "markdown",
   "id": "6bde260e-2289-44f2-8db6-6a3f213ab412",
   "metadata": {},
   "source": [
    "<h3>Code cell, Implement the fibonacci sequence<h3>"
   ]
  },
  {
   "cell_type": "code",
   "execution_count": 9,
   "id": "9c530677-1cb9-4550-a0e6-e9afa02d9c17",
   "metadata": {},
   "outputs": [
    {
     "data": {
      "text/plain": [
       "1"
      ]
     },
     "execution_count": 9,
     "metadata": {},
     "output_type": "execute_result"
    }
   ],
   "source": [
    "def fibon(n):\n",
    "    if n == 0 or n == 1:\n",
    "        return n\n",
    "    f = fibon(n - 1) + fibon(n - 2)\n",
    "    return f\n",
    "fibon(1) # (0, 1, 1, 2, 3, 5, 8, 13, etc...)"
   ]
  },
  {
   "cell_type": "markdown",
   "id": "cffad4b3-03a5-40ee-af7b-6e49ceb07d4d",
   "metadata": {},
   "source": [
    "---\n",
    "\n",
    "```markdown\n",
    ">One level of indentation\n",
    "```\n",
    "\n",
    "---\n",
    "\n",
    "```python\n",
    "print(\"hi world\")\n",
    "```\n",
    "---\n",
    "\n",
    "```markdown\n",
    "1. One\n",
    "1. Two\n",
    "1. Three\n",
    "```\n",
    "---\n",
    "\n",
    "```markdown\n",
    "$y=x^2$\n",
    "\n",
    "$e^{i\\pi} + 1 = 0$\n",
    "\n",
    "$e^x=\\sum_{i=0}^\\infty \\frac{1}{i!}x^i$\n",
    "```\n",
    "---\n",
    "\n",
    "```markdown\n",
    "First column name  | Second column name \n",
    "-------------------|------------------\n",
    "Row 1, Col 1       | Row 1, Col 2 \n",
    "Row 2, Col 1       | Row 2, Col 2 \n",
    "```\n",
    "---"
   ]
  },
  {
   "cell_type": "code",
   "execution_count": null,
   "id": "91e69ad6-f8b0-4072-a7ca-713113973119",
   "metadata": {},
   "outputs": [],
   "source": []
  }
 ],
 "metadata": {
  "kernelspec": {
   "display_name": "Python",
   "language": "python",
   "name": "conda-env-python-py"
  },
  "language_info": {
   "codemirror_mode": {
    "name": "ipython",
    "version": 3
   },
   "file_extension": ".py",
   "mimetype": "text/x-python",
   "name": "python",
   "nbconvert_exporter": "python",
   "pygments_lexer": "ipython3",
   "version": "3.7.12"
  }
 },
 "nbformat": 4,
 "nbformat_minor": 5
}
